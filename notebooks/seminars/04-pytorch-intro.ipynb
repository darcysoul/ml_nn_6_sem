{
 "cells": [
  {
   "cell_type": "markdown",
   "metadata": {
    "id": "apOCg85d9SLV"
   },
   "source": [
    "# Семинар по Pytorch.\n"
   ]
  },
  {
   "cell_type": "code",
   "execution_count": null,
   "metadata": {
    "id": "_gLdrFvh9SLX"
   },
   "outputs": [],
   "source": [
    "import matplotlib.pyplot as plt\n",
    "import numpy as np\n",
    "import sklearn\n",
    "%matplotlib inline"
   ]
  },
  {
   "cell_type": "markdown",
   "metadata": {
    "id": "OYzpWFqt9SLY"
   },
   "source": [
    "Установка: https://pytorch.org/get-started/locally/  \n",
    "В этом ноутбуке будут разобраны основные особенности фреймворка Pytorch. Pytorch - это как Numpy, только умеет эффективно автоматически считать градиенты."
   ]
  },
  {
   "cell_type": "code",
   "execution_count": null,
   "metadata": {
    "colab": {
     "base_uri": "https://localhost:8080/"
    },
    "id": "ejEH9lf39SLZ",
    "outputId": "67145a07-4704-44b0-bfb7-c962c75b03e0"
   },
   "outputs": [],
   "source": [
    "import torch\n",
    "\n",
    "print(torch.__version__)"
   ]
  },
  {
   "cell_type": "code",
   "execution_count": null,
   "metadata": {
    "id": "CvX6ONy29SLa"
   },
   "outputs": [],
   "source": [
    "import torchvision\n",
    "from torch import nn\n",
    "import os\n",
    "from torchvision.datasets import MNIST\n",
    "import torchvision.transforms as transforms\n",
    "import tqdm"
   ]
  },
  {
   "cell_type": "code",
   "execution_count": null,
   "metadata": {
    "colab": {
     "base_uri": "https://localhost:8080/"
    },
    "id": "iyXIU9K29SLb",
    "outputId": "5c8cb232-155a-48ec-a759-6d8bdeb7fd90"
   },
   "outputs": [],
   "source": [
    "# проверить, доступна ли у вас cuda.\n",
    "torch.cuda.is_available()"
   ]
  },
  {
   "cell_type": "markdown",
   "metadata": {
    "id": "7eVL0Xh49SLb"
   },
   "source": [
    "# Базовые операции"
   ]
  },
  {
   "cell_type": "code",
   "execution_count": null,
   "metadata": {
    "colab": {
     "base_uri": "https://localhost:8080/"
    },
    "id": "VJh2krfQ9SLb",
    "outputId": "b6f11b04-1d73-42e3-8433-11254067f174",
    "scrolled": true
   },
   "outputs": [],
   "source": [
    "# numpy\n",
    "\n",
    "x = np.arange(25).reshape(5, 5)\n",
    "\n",
    "print(\"X :\\n {}\\n\".format(x))\n",
    "print(\"X.shape : {}\\n \".format(x.shape))\n",
    "print(\"Возвести в квадрат:\\n {}\\n\".format(x * x))\n",
    "print(\"X*X^T  :\\n {}\\n\".format(np.matmul(x, x.T)))\n",
    "print(\"Cреднее по столбцам :\\n {}\\n\".format(np.mean(x, axis=0)))\n",
    "print(\"Сумма по строкам:\\n {}\\n\".format(np.cumsum(x, axis=1)))"
   ]
  },
  {
   "cell_type": "code",
   "execution_count": null,
   "metadata": {
    "colab": {
     "base_uri": "https://localhost:8080/"
    },
    "id": "qRoNIUAm9SLc",
    "outputId": "700f09ba-d36f-43d8-9bb7-592c01222c5c"
   },
   "outputs": [],
   "source": [
    "# torch\n",
    "\n",
    "x = torch.arange(25).reshape(5, 5).float()\n",
    "\n",
    "print(\"X :\\n {}\\n\".format(x))\n",
    "print(\"X.shape : {}\\n \".format(x.shape))\n",
    "print(\"Возвести в квадрат:\\n {}\\n\".format(x * x))\n",
    "print(\"X*X^T  :\\n {}\\n\".format(torch.matmul(x, x.T)))\n",
    "print(\"Cреднее по столбцам :\\n {}\\n\".format(torch.mean(x, axis=0)))\n",
    "print(\"Сумма по строкам:\\n {}\\n\".format(torch.cumsum(x, axis=1)))"
   ]
  },
  {
   "cell_type": "markdown",
   "metadata": {
    "id": "PErs03Qf9SLc"
   },
   "source": [
    "# Pytorch - почти Numpy.\n",
    "Вы можете создавать тензоры, смотреть на их градиенты, не создавая сессии как в tensorflow.\n",
    "Названия методов очень похожи. Если они отличаются - загляните в таблицу: https://github.com/torch/torch7/wiki/Torch-for-Numpy-users\n"
   ]
  },
  {
   "cell_type": "markdown",
   "metadata": {
    "id": "OVAZNles9SLd"
   },
   "source": [
    "# Pytroch сам считает backpropagation для нас с помощью модуля autograd"
   ]
  },
  {
   "cell_type": "code",
   "execution_count": null,
   "metadata": {
    "colab": {
     "base_uri": "https://localhost:8080/"
    },
    "id": "BxomQQ3u9SLd",
    "outputId": "c5eb07db-3143-49ae-f5cf-7bc1c957c161"
   },
   "outputs": [],
   "source": [
    "# создаем тензор\n",
    "preds = torch.zeros(5, requires_grad=True)\n",
    "\n",
    "# вектор предсказаний\n",
    "labels = torch.ones(5, requires_grad=True)\n",
    "\n",
    "# loss: MAE\n",
    "loss = torch.mean(torch.abs(labels - preds))\n",
    "\n",
    "print(loss)\n",
    "\n",
    "# запускаем backprop\n",
    "loss.backward()"
   ]
  },
  {
   "cell_type": "code",
   "execution_count": null,
   "metadata": {
    "colab": {
     "base_uri": "https://localhost:8080/"
    },
    "id": "aSu1ITF99SLe",
    "outputId": "f81d2c14-af85-4dab-815f-09ec4ae1c12f"
   },
   "outputs": [],
   "source": [
    "# градиенты доступны в поле .grad:\n",
    "preds.grad"
   ]
  },
  {
   "cell_type": "code",
   "execution_count": null,
   "metadata": {
    "colab": {
     "base_uri": "https://localhost:8080/"
    },
    "id": "JlpI3Th29SLe",
    "outputId": "e7c3d66e-9233-41d7-f227-37589db53212"
   },
   "outputs": [],
   "source": [
    "# градиенты можно занулить\n",
    "preds.grad.zero_()"
   ]
  },
  {
   "cell_type": "code",
   "execution_count": null,
   "metadata": {
    "colab": {
     "base_uri": "https://localhost:8080/"
    },
    "id": "zBjOk_jH9SLe",
    "outputId": "07571207-ce54-4452-adb3-705c2f55009f"
   },
   "outputs": [],
   "source": [
    "# теперь градиенты снова 0\n",
    "preds.grad"
   ]
  },
  {
   "cell_type": "markdown",
   "metadata": {
    "id": "rzwlsjQC9SLf"
   },
   "source": [
    "###  Градиенты накапливаются при каждом вызове backward()"
   ]
  },
  {
   "cell_type": "code",
   "execution_count": null,
   "metadata": {
    "colab": {
     "base_uri": "https://localhost:8080/"
    },
    "id": "kgydtalG9SLf",
    "outputId": "886288c8-bcd2-4a78-ad5b-f795b8485693"
   },
   "outputs": [],
   "source": [
    "# создаем тензор\n",
    "preds = torch.zeros(5, requires_grad=True)\n",
    "\n",
    "# вектор предсказаний\n",
    "labels = torch.ones(5, requires_grad=True)\n",
    "\n",
    "# loss: MAE\n",
    "loss = torch.mean(torch.abs(labels - preds))\n",
    "\n",
    "print(loss)\n",
    "\n",
    "# запускаем backprop\n",
    "for i in range(5):\n",
    "    loss.backward(retain_graph=True)\n",
    "    print(i, preds.grad)"
   ]
  },
  {
   "cell_type": "markdown",
   "metadata": {
    "id": "xt-q2Fk79SLg"
   },
   "source": [
    "# Пишем свою логистическую регрессию на пайторче"
   ]
  },
  {
   "cell_type": "code",
   "execution_count": null,
   "metadata": {
    "id": "J3yFTWek9SLg"
   },
   "outputs": [],
   "source": [
    "from sklearn.datasets import make_blobs\n",
    "import sklearn\n",
    "\n",
    "X, y = make_blobs(\n",
    "    n_samples=200,\n",
    "    centers=((10, 5), (5, -5)),\n",
    "    n_features=2,\n",
    "    random_state=0,\n",
    "    cluster_std=3,\n",
    ")"
   ]
  },
  {
   "cell_type": "code",
   "execution_count": null,
   "metadata": {
    "colab": {
     "base_uri": "https://localhost:8080/",
     "height": 282
    },
    "id": "FDd7e9339SLg",
    "outputId": "1b919df0-f188-447c-e69e-f6a468ce9cb6"
   },
   "outputs": [],
   "source": [
    "plt.scatter(X[:, 0], X[:, 1], marker=\"o\", c=y, s=25, edgecolor=\"k\")"
   ]
  },
  {
   "cell_type": "markdown",
   "metadata": {
    "id": "5NU6rOBC9SLh"
   },
   "source": [
    "# Напоминание. Как это было в Sklearn:"
   ]
  },
  {
   "cell_type": "code",
   "execution_count": null,
   "metadata": {
    "id": "7wWhBHPH9SLh"
   },
   "outputs": [],
   "source": [
    "from sklearn.linear_model import LogisticRegression"
   ]
  },
  {
   "cell_type": "code",
   "execution_count": null,
   "metadata": {
    "id": "2HmP5WB_9SLi"
   },
   "outputs": [],
   "source": [
    "model = LogisticRegression()"
   ]
  },
  {
   "cell_type": "code",
   "execution_count": null,
   "metadata": {
    "colab": {
     "base_uri": "https://localhost:8080/"
    },
    "id": "WBcgUibg9SLi",
    "outputId": "74606d4b-5b33-4025-f275-fd4690b22c71",
    "scrolled": true
   },
   "outputs": [],
   "source": [
    "model.fit(X, y)"
   ]
  },
  {
   "cell_type": "code",
   "execution_count": null,
   "metadata": {
    "colab": {
     "base_uri": "https://localhost:8080/"
    },
    "id": "lk966UsF9SLj",
    "outputId": "da585bd2-a748-4004-c80a-290471761045"
   },
   "outputs": [],
   "source": [
    "model.coef_"
   ]
  },
  {
   "cell_type": "code",
   "execution_count": null,
   "metadata": {
    "colab": {
     "base_uri": "https://localhost:8080/"
    },
    "id": "tInwNtdw9SLj",
    "outputId": "7547ac62-d286-4045-ec6b-158d31f5b062"
   },
   "outputs": [],
   "source": [
    "model.intercept_"
   ]
  },
  {
   "cell_type": "markdown",
   "metadata": {
    "id": "tyw6b4ZG9SLk"
   },
   "source": [
    "## Визуализируем разделяющую плоскость"
   ]
  },
  {
   "cell_type": "code",
   "execution_count": null,
   "metadata": {
    "colab": {
     "base_uri": "https://localhost:8080/",
     "height": 592
    },
    "id": "zeQ1czKR9SLk",
    "outputId": "404ed742-7fc9-4bfe-c554-c5cd39d579a2"
   },
   "outputs": [],
   "source": [
    "w_1 = model.coef_[0][0]\n",
    "w_2 = model.coef_[0][1]\n",
    "w_0 = model.intercept_[0]\n",
    "\n",
    "plt.figure(figsize=(20, 10))\n",
    "plt.scatter(X[:, 0], X[:, 1], marker=\"o\", c=y, s=25, edgecolor=\"k\")\n",
    "plt.legend([\"y = -1\", \"y = 1\"])\n",
    "x_arr = np.linspace(-3, 18, 1000)\n",
    "\n",
    "y_arr = -(w_0 + w_1 * x_arr) / w_2\n",
    "plt.plot(x_arr, y_arr)\n",
    "plt.show()"
   ]
  },
  {
   "cell_type": "markdown",
   "metadata": {
    "id": "uqe74hxI9SLl"
   },
   "source": [
    "# Pytorch"
   ]
  },
  {
   "cell_type": "code",
   "execution_count": null,
   "metadata": {
    "id": "zeYuViOh9SLl"
   },
   "outputs": [],
   "source": [
    "X, y = make_blobs(n_samples=200, centers=2, n_features=2, random_state=0, cluster_std=3)"
   ]
  },
  {
   "cell_type": "code",
   "execution_count": null,
   "metadata": {
    "colab": {
     "base_uri": "https://localhost:8080/"
    },
    "id": "jrbIbcUf9SLl",
    "outputId": "54d5f4cb-3c66-4531-ff11-6406df90fa81"
   },
   "outputs": [],
   "source": [
    "type(X), type(y)"
   ]
  },
  {
   "cell_type": "code",
   "execution_count": null,
   "metadata": {
    "id": "NkSB7ldb9SLm"
   },
   "outputs": [],
   "source": [
    "X = torch.tensor(X)\n",
    "y = torch.tensor(y)"
   ]
  },
  {
   "cell_type": "code",
   "execution_count": null,
   "metadata": {
    "colab": {
     "base_uri": "https://localhost:8080/"
    },
    "id": "R5pyIO1k9SLm",
    "outputId": "00f6053e-2099-495c-e226-867c3650d8bb"
   },
   "outputs": [],
   "source": [
    "type(X), type(y)"
   ]
  },
  {
   "cell_type": "code",
   "execution_count": null,
   "metadata": {
    "colab": {
     "base_uri": "https://localhost:8080/"
    },
    "id": "JdoThC549SLm",
    "outputId": "146701ee-b542-4bce-eb8c-c6a7f8c6a935"
   },
   "outputs": [],
   "source": [
    "print(X.shape, y.shape)"
   ]
  },
  {
   "cell_type": "code",
   "execution_count": null,
   "metadata": {
    "colab": {
     "base_uri": "https://localhost:8080/"
    },
    "id": "T6dvOti89SLo",
    "outputId": "bab39e85-0757-4d7e-bb49-4df45c0e0838"
   },
   "outputs": [],
   "source": [
    "len(X)"
   ]
  },
  {
   "cell_type": "code",
   "execution_count": null,
   "metadata": {
    "colab": {
     "base_uri": "https://localhost:8080/"
    },
    "id": "TSwk0ae39SLo",
    "outputId": "f66f7609-dc2b-41da-bf6a-9d0ef89e24f5"
   },
   "outputs": [],
   "source": [
    "len(y)"
   ]
  },
  {
   "cell_type": "markdown",
   "metadata": {
    "id": "0DW4OIky9SLo"
   },
   "source": [
    "# Напишем свою логистическую регрессию на пайторче"
   ]
  },
  {
   "cell_type": "code",
   "execution_count": null,
   "metadata": {
    "id": "RcTuxVya9SLo"
   },
   "outputs": [],
   "source": [
    "X, y = make_blobs(\n",
    "    n_samples=200,\n",
    "    centers=((10, 5), (5, -5)),\n",
    "    n_features=2,\n",
    "    random_state=0,\n",
    "    cluster_std=3,\n",
    ")"
   ]
  },
  {
   "cell_type": "code",
   "execution_count": null,
   "metadata": {
    "colab": {
     "base_uri": "https://localhost:8080/"
    },
    "id": "l9nsTljs9SLp",
    "outputId": "d0708940-91d1-4b69-da77-6de9cf08320b"
   },
   "outputs": [],
   "source": [
    "type(X), type(y)"
   ]
  },
  {
   "cell_type": "code",
   "execution_count": null,
   "metadata": {
    "id": "dRCnYCIZ9SLp"
   },
   "outputs": [],
   "source": [
    "X = torch.tensor(X)\n",
    "y = torch.tensor(y)"
   ]
  },
  {
   "cell_type": "code",
   "execution_count": null,
   "metadata": {
    "id": "XLWyyMy29SLp"
   },
   "outputs": [],
   "source": [
    "assert type(X) == torch.Tensor\n",
    "assert type(y) == torch.Tensor"
   ]
  },
  {
   "cell_type": "code",
   "execution_count": null,
   "metadata": {
    "id": "d5sC_9z79SLp"
   },
   "outputs": [],
   "source": [
    "w = torch.zeros(2, requires_grad=True, dtype=torch.double)\n",
    "b = torch.zeros(1, requires_grad=True, dtype=torch.double)"
   ]
  },
  {
   "cell_type": "code",
   "execution_count": null,
   "metadata": {
    "id": "oXS_iaNV9SLq"
   },
   "outputs": [],
   "source": [
    "assert w.requires_grad\n",
    "assert len(w.shape) == 1\n",
    "assert w.shape[0] == X.shape[1]\n",
    "assert w.dtype == X.dtype\n",
    "assert b.requires_grad\n",
    "assert len(b.shape) == 1\n",
    "assert b.dtype == X.dtype"
   ]
  },
  {
   "cell_type": "code",
   "execution_count": null,
   "metadata": {
    "id": "mHrha4x49SLq"
   },
   "outputs": [],
   "source": [
    "def binary_cross_entropy(y, y_predicted):\n",
    "    \"\"\"\n",
    "    y: binary tensor, shape: N, example: [0, 1, 0, 1, 1]\n",
    "    y_pred: tensor with values from 0 to 1. shape: N. example: [0.2, 0, 1, 0.75, 0.999]\n",
    "\n",
    "    output: tensor, shape: N\n",
    "\n",
    "    \"\"\"\n",
    "    return -(y * (torch.log(y_predicted)) + (1 - y) * torch.log(1 - y_predicted))"
   ]
  },
  {
   "cell_type": "code",
   "execution_count": null,
   "metadata": {
    "id": "Bc7UtPD-9SLq"
   },
   "outputs": [],
   "source": [
    "y_test = torch.tensor([1, 0, 1, 1])\n",
    "y_pred = torch.tensor([0.7, 0.3, 0.5, 0.9])\n",
    "bce_correct = torch.tensor([0.3567, 0.3567, 0.6931, 0.1054])\n",
    "bce_predicted = binary_cross_entropy(y_test, y_pred)\n",
    "assert bce_predicted.shape == y_test.shape\n",
    "assert torch.allclose(bce_predicted, bce_correct, rtol=1e-03)"
   ]
  },
  {
   "cell_type": "code",
   "execution_count": null,
   "metadata": {
    "colab": {
     "base_uri": "https://localhost:8080/",
     "height": 282
    },
    "id": "27EK6JmN9SLq",
    "outputId": "faa084ab-11aa-424c-bcc3-86fea3c02391",
    "scrolled": true
   },
   "outputs": [],
   "source": [
    "from IPython.display import clear_output\n",
    "\n",
    "learning_rate = 0.00001\n",
    "n_epoch = 1000\n",
    "\n",
    "for i in range(n_epoch):\n",
    "    y_pred = torch.matmul(X, w) + b\n",
    "    y_pred = torch.sigmoid(y_pred)\n",
    "    loss = binary_cross_entropy(y, y_pred)\n",
    "    loss = torch.sum(loss)\n",
    "\n",
    "    loss.backward()\n",
    "\n",
    "    w.data -= learning_rate * w.grad.data\n",
    "    b.data -= learning_rate * b.grad.data\n",
    "\n",
    "    # zero gradients\n",
    "    w.grad.data.zero_()\n",
    "    b.grad.data.zero_()\n",
    "\n",
    "    if (i + 1) % 5 == 0:\n",
    "        # if True:\n",
    "        clear_output(True)\n",
    "        plt.scatter(X[:, 0], X[:, 1], marker=\"o\", c=y, s=25, edgecolor=\"k\")\n",
    "\n",
    "        w_1 = w.data[0]\n",
    "        w_2 = w.data[1]\n",
    "        w_0 = b.data[0]\n",
    "\n",
    "        x_arr = torch.linspace(-10, 20, 1000)\n",
    "        plt.plot(x_arr, -(w_0 + w_1 * x_arr) / w_2)\n",
    "        plt.show()\n",
    "\n",
    "        print(\"Iteration: {}, Loss: {}\".format(i, loss))"
   ]
  },
  {
   "cell_type": "markdown",
   "metadata": {
    "id": "dOACWrA69SLr"
   },
   "source": [
    "# Теперь все за нас делает пайторч"
   ]
  },
  {
   "cell_type": "code",
   "execution_count": null,
   "metadata": {
    "id": "GFipi35D9SLr"
   },
   "outputs": [],
   "source": [
    "X, y = make_blobs(\n",
    "    n_samples=200,\n",
    "    centers=((10, 5), (5, -5)),\n",
    "    n_features=2,\n",
    "    random_state=0,\n",
    "    cluster_std=3,\n",
    ")"
   ]
  },
  {
   "cell_type": "code",
   "execution_count": null,
   "metadata": {
    "id": "Wn8pm63j9SLr"
   },
   "outputs": [],
   "source": [
    "X = torch.tensor(X)\n",
    "y = torch.tensor(y)"
   ]
  },
  {
   "cell_type": "markdown",
   "metadata": {},
   "source": [
    "# Немного про оптимизаторы"
   ]
  },
  {
   "cell_type": "markdown",
   "metadata": {},
   "source": [
    "![](https://mpopov.com/images/adam-animated.gif)"
   ]
  },
  {
   "cell_type": "markdown",
   "metadata": {},
   "source": [
    "![](https://ml-cheatsheet.readthedocs.io/en/latest/_images/optimizers.gif)"
   ]
  },
  {
   "cell_type": "markdown",
   "metadata": {},
   "source": [
    "![](https://images.viblo.asia/993c2fcc-ece4-41d8-bca7-5442e9ce3836.gif)"
   ]
  },
  {
   "cell_type": "markdown",
   "metadata": {},
   "source": [
    "![](https://camo.githubusercontent.com/cccdc200cc2a3052ad9562f6f58ebd429d634fb1190a84b20db931e8ad4ffb8f/68747470733a2f2f692e737461636b2e696d6775722e636f6d2f316f6274562e676966)"
   ]
  },
  {
   "cell_type": "markdown",
   "metadata": {
    "id": "BcPK0X9A9SLs"
   },
   "source": [
    "# Инициализируем модель"
   ]
  },
  {
   "cell_type": "code",
   "execution_count": null,
   "metadata": {
    "colab": {
     "base_uri": "https://localhost:8080/"
    },
    "id": "isKKf6Ph9SLs",
    "outputId": "171f5352-7f9d-4b8b-e713-9e22bed4aae4"
   },
   "outputs": [],
   "source": [
    "model = torch.nn.Linear(2, 1)\n",
    "criterion = torch.nn.BCELoss()\n",
    "\n",
    "optim = torch.optim.SGD(model.parameters(), lr=0.1)\n",
    "\n",
    "model.train()"
   ]
  },
  {
   "cell_type": "code",
   "execution_count": null,
   "metadata": {
    "colab": {
     "base_uri": "https://localhost:8080/"
    },
    "id": "G8ZZVN6p9SLs",
    "outputId": "f726ed1e-75ab-400f-a272-0b97f064c1eb"
   },
   "outputs": [],
   "source": [
    "model"
   ]
  },
  {
   "cell_type": "code",
   "execution_count": null,
   "metadata": {
    "colab": {
     "base_uri": "https://localhost:8080/"
    },
    "id": "0EJf9Aa89SLs",
    "outputId": "cb41bf52-a525-4828-a41c-72d41924471a"
   },
   "outputs": [],
   "source": [
    "model.weight"
   ]
  },
  {
   "cell_type": "code",
   "execution_count": null,
   "metadata": {
    "colab": {
     "base_uri": "https://localhost:8080/"
    },
    "id": "kZfdsGbH9SLt",
    "outputId": "2732e8ba-8903-480a-dabe-9d3686bf9bae"
   },
   "outputs": [],
   "source": [
    "model.bias"
   ]
  },
  {
   "cell_type": "code",
   "execution_count": null,
   "metadata": {
    "colab": {
     "base_uri": "https://localhost:8080/"
    },
    "id": "-8fF8Cu89SLt",
    "outputId": "ad5eb620-6ada-46e4-edea-efe10042f355"
   },
   "outputs": [],
   "source": [
    "model.weight.data.dtype"
   ]
  },
  {
   "cell_type": "code",
   "execution_count": null,
   "metadata": {
    "colab": {
     "base_uri": "https://localhost:8080/",
     "height": 282
    },
    "id": "l0giOSki9SLt",
    "outputId": "56752055-57ab-4742-bca2-62b16ee88f22"
   },
   "outputs": [],
   "source": [
    "from IPython.display import clear_output\n",
    "\n",
    "\n",
    "for i in range(1000):\n",
    "    # считаем предсказание\n",
    "    y_pred = torch.sigmoid(model(X.float()))\n",
    "\n",
    "    # считаем лосс\n",
    "    loss = criterion(y_pred.flatten(), y.float())\n",
    "\n",
    "    # прокидываем градиенты\n",
    "    loss.backward()\n",
    "\n",
    "    # делаем шаг оптимизатором\n",
    "    optim.step()\n",
    "\n",
    "    # зануляем градиенты\n",
    "    optim.zero_grad()\n",
    "\n",
    "    if (i + 1) % 5 == 0:\n",
    "        clear_output(True)\n",
    "        plt.scatter(X[:, 0], X[:, 1], marker=\"o\", c=y, s=25, edgecolor=\"k\")\n",
    "\n",
    "        w_1 = model.weight.data[0][0]\n",
    "        w_2 = model.weight.data[0][1]\n",
    "        w_0 = model.bias.data[0]\n",
    "\n",
    "        x_arr = torch.linspace(-10, 20, 1000)\n",
    "        plt.plot(x_arr, -(w_0 + w_1 * x_arr) / w_2)\n",
    "        plt.show()\n",
    "\n",
    "        print(\"Iteration: {}, Loss: {}\".format(i, loss))"
   ]
  },
  {
   "cell_type": "markdown",
   "metadata": {
    "id": "PvOBE30i9SLu"
   },
   "source": [
    "# Окей, пусть теперь проблема нелинейная"
   ]
  },
  {
   "cell_type": "code",
   "execution_count": null,
   "metadata": {
    "id": "xNdKWnab9SLu"
   },
   "outputs": [],
   "source": [
    "from sklearn.datasets import make_moons"
   ]
  },
  {
   "cell_type": "code",
   "execution_count": null,
   "metadata": {
    "id": "ZMiLvnHe9SLu"
   },
   "outputs": [],
   "source": [
    "X, y = make_moons(n_samples=200, noise=0.1, random_state=17)"
   ]
  },
  {
   "cell_type": "code",
   "execution_count": null,
   "metadata": {
    "colab": {
     "base_uri": "https://localhost:8080/",
     "height": 266
    },
    "id": "iKV3vT9q9SLu",
    "outputId": "2cbe3751-a072-4293-9753-f4e70d1ea88c"
   },
   "outputs": [],
   "source": [
    "plt.scatter(X[:, 0], X[:, 1], marker=\"o\", c=y, s=25, edgecolor=\"k\")\n",
    "\n",
    "X = torch.tensor(X)\n",
    "y = torch.tensor(y)"
   ]
  },
  {
   "cell_type": "code",
   "execution_count": null,
   "metadata": {
    "colab": {
     "base_uri": "https://localhost:8080/"
    },
    "id": "A-suQlRt9SLu",
    "outputId": "af3e8cc1-747e-4195-87a6-a4fe7d01689a"
   },
   "outputs": [],
   "source": [
    "model = torch.nn.Linear(2, 1)\n",
    "criterion = torch.nn.BCELoss()\n",
    "\n",
    "optim = torch.optim.SGD(model.parameters(), lr=0.01, momentum=0.9)\n",
    "\n",
    "model.train()"
   ]
  },
  {
   "cell_type": "code",
   "execution_count": null,
   "metadata": {
    "colab": {
     "base_uri": "https://localhost:8080/",
     "height": 283
    },
    "id": "gF_WdOl29SLv",
    "outputId": "9b84241b-eb28-4ff2-ddef-6d883613de7e"
   },
   "outputs": [],
   "source": [
    "from IPython.display import clear_output\n",
    "\n",
    "\n",
    "for i in range(30000):\n",
    "\n",
    "    y_pred = torch.sigmoid(model(X.float()))\n",
    "\n",
    "    loss = criterion(y_pred.flatten(), y.float())\n",
    "\n",
    "    loss.backward()\n",
    "\n",
    "    optim.step()\n",
    "    optim.zero_grad()\n",
    "\n",
    "    if (i + 1) % 500 == 0:\n",
    "        clear_output(True)\n",
    "        plt.scatter(X[:, 0], X[:, 1], marker=\"o\", c=y, s=25, edgecolor=\"k\")\n",
    "\n",
    "        w_1 = model.weight.data[0][0]\n",
    "        w_2 = model.weight.data[0][1]\n",
    "        w_0 = model.bias.data[0]\n",
    "\n",
    "        x_arr = torch.linspace(-2, 2, 1000)\n",
    "        plt.plot(x_arr, -(w_0 + w_1 * x_arr) / w_2)\n",
    "        plt.show()\n",
    "\n",
    "        print(\"Iteration: {}, Loss: {}\".format(i, loss))"
   ]
  },
  {
   "cell_type": "markdown",
   "metadata": {
    "id": "WevXy3M99SLv"
   },
   "source": [
    "# Визуализируем разделяющую плоскость"
   ]
  },
  {
   "cell_type": "code",
   "execution_count": null,
   "metadata": {
    "id": "hnCBUkTa9SLv"
   },
   "outputs": [],
   "source": [
    "h = 0.02  # step size in the mesh\n",
    "cm = plt.cm.RdBu\n",
    "x_min, x_max = X[:, 0].min() - 0.5, X[:, 0].max() + 0.5\n",
    "y_min, y_max = X[:, 1].min() - 0.5, X[:, 1].max() + 0.5\n",
    "xx, yy = np.meshgrid(np.arange(x_min, x_max, h), np.arange(y_min, y_max, h))\n",
    "\n",
    "input_tensor = torch.from_numpy(np.c_[xx.ravel(), yy.ravel()]).float()\n",
    "model.eval()\n",
    "Z = torch.sigmoid(model(input_tensor))\n",
    "Z = Z.reshape(xx.shape)"
   ]
  },
  {
   "cell_type": "code",
   "execution_count": null,
   "metadata": {
    "colab": {
     "base_uri": "https://localhost:8080/",
     "height": 265
    },
    "id": "nyNauPQp9SLw",
    "outputId": "ca257bc2-d4b6-4e79-ee7b-948a2d314d42"
   },
   "outputs": [],
   "source": [
    "plt.scatter(X[:, 0], X[:, 1], marker=\"o\", c=y, s=25, edgecolor=\"k\")\n",
    "\n",
    "plt.contourf(xx, yy, Z.detach().numpy(), cmap=cm, alpha=0.8)\n",
    "\n",
    "plt.show()"
   ]
  },
  {
   "cell_type": "markdown",
   "metadata": {
    "id": "UddJchKW9SLw"
   },
   "source": [
    "# Делаем модель сложнее"
   ]
  },
  {
   "cell_type": "code",
   "execution_count": null,
   "metadata": {
    "colab": {
     "base_uri": "https://localhost:8080/",
     "height": 355
    },
    "id": "x69Nn_YN9SLw",
    "outputId": "2ca4de0c-a95f-4786-f8f1-e529f403fd81"
   },
   "outputs": [],
   "source": [
    "plt.scatter(X[:, 0], X[:, 1], marker=\"o\", c=y, s=25, edgecolor=\"k\")\n",
    "\n",
    "X = torch.tensor(X)\n",
    "y = torch.tensor(y)"
   ]
  },
  {
   "cell_type": "code",
   "execution_count": null,
   "metadata": {
    "id": "dUhEBnzI9SLx"
   },
   "outputs": [],
   "source": [
    "from torch import nn"
   ]
  },
  {
   "cell_type": "markdown",
   "metadata": {
    "id": "aFhGOXiu9SLx"
   },
   "source": [
    "# Cоберите двуслойную модель"
   ]
  },
  {
   "cell_type": "code",
   "execution_count": null,
   "metadata": {
    "id": "wfPiEfSU9SLx"
   },
   "outputs": [],
   "source": [
    "model = nn.Sequential()\n",
    "model.add_module(\"first\", nn.Linear(2, 2))\n",
    "model.add_module(\"first_activation\", nn.Sigmoid())\n",
    "model.add_module(\"second\", nn.Linear(2, 1))"
   ]
  },
  {
   "cell_type": "code",
   "execution_count": null,
   "metadata": {
    "colab": {
     "base_uri": "https://localhost:8080/"
    },
    "id": "owO-1I-J9SLy",
    "outputId": "4c346e55-b4f0-4c45-aee8-72827c80c6b2"
   },
   "outputs": [],
   "source": [
    "criterion = torch.nn.BCELoss()\n",
    "\n",
    "optim = torch.optim.SGD(model.parameters(), lr=2.0)\n",
    "\n",
    "model.train()"
   ]
  },
  {
   "cell_type": "code",
   "execution_count": null,
   "metadata": {
    "colab": {
     "base_uri": "https://localhost:8080/",
     "height": 282
    },
    "id": "RquUN5YP9SLy",
    "outputId": "ab12b8c6-00c8-4a99-ead9-ffef5eb71d88"
   },
   "outputs": [],
   "source": [
    "from IPython.display import clear_output\n",
    "\n",
    "\n",
    "h = 0.02  # step size in the mesh\n",
    "cm = plt.cm.RdBu\n",
    "x_min, x_max = X[:, 0].min() - 0.5, X[:, 0].max() + 0.5\n",
    "y_min, y_max = X[:, 1].min() - 0.5, X[:, 1].max() + 0.5\n",
    "xx, yy = np.meshgrid(np.arange(x_min, x_max, h), np.arange(y_min, y_max, h))\n",
    "\n",
    "\n",
    "model.train()\n",
    "for i in range(30000):\n",
    "\n",
    "    y_pred = torch.sigmoid(model(X.float()))\n",
    "\n",
    "    loss = criterion(y_pred.flatten(), y.float())\n",
    "\n",
    "    loss.backward()\n",
    "\n",
    "    optim.step()\n",
    "    optim.zero_grad()\n",
    "    if (i + 1) % 500 == 0:\n",
    "        clear_output(True)\n",
    "        input_tensor = torch.from_numpy(np.c_[xx.ravel(), yy.ravel()]).float()\n",
    "        Z = torch.sigmoid(model(input_tensor))\n",
    "        Z = Z.reshape(xx.shape)\n",
    "\n",
    "        plt.scatter(X[:, 0], X[:, 1], marker=\"o\", c=y, s=25, edgecolor=\"k\")\n",
    "\n",
    "        plt.contourf(xx, yy, Z.detach().numpy(), cmap=cm, alpha=0.8)\n",
    "\n",
    "        plt.show()\n",
    "\n",
    "        print(\"Iteration: {}, Loss: {}\".format(i, loss))"
   ]
  },
  {
   "cell_type": "markdown",
   "metadata": {
    "id": "qN9h6lYI9SLy"
   },
   "source": [
    "# Усложним модель (увеличим количество слоев)"
   ]
  },
  {
   "cell_type": "code",
   "execution_count": null,
   "metadata": {
    "id": "79UD5nPe9SLy"
   },
   "outputs": [],
   "source": [
    "model = nn.Sequential()\n",
    "model.add_module(\"first\", nn.Linear(2, 2))\n",
    "model.add_module(\"first_activation\", nn.Sigmoid())\n",
    "model.add_module(\"second\", nn.Linear(2, 2))\n",
    "model.add_module(\"second_activation\", nn.Sigmoid())\n",
    "model.add_module(\"third\", nn.Linear(2, 1))"
   ]
  },
  {
   "cell_type": "code",
   "execution_count": null,
   "metadata": {
    "colab": {
     "base_uri": "https://localhost:8080/"
    },
    "id": "IAxchrKd9SLz",
    "outputId": "ca800af1-ecb9-407b-d091-a700f66b5c1e"
   },
   "outputs": [],
   "source": [
    "criterion = torch.nn.BCELoss()\n",
    "\n",
    "optim = torch.optim.SGD(model.parameters(), lr=2.0, momentum=0.9)\n",
    "\n",
    "model.train()"
   ]
  },
  {
   "cell_type": "code",
   "execution_count": null,
   "metadata": {
    "colab": {
     "base_uri": "https://localhost:8080/",
     "height": 282
    },
    "id": "K7n0LIa09SLz",
    "outputId": "ca69ae43-9dd6-4ee3-cd12-ff7bdb514e12",
    "scrolled": false
   },
   "outputs": [],
   "source": [
    "from IPython.display import clear_output\n",
    "\n",
    "\n",
    "h = 0.02  # step size in the mesh\n",
    "cm = plt.cm.RdBu\n",
    "x_min, x_max = X[:, 0].min() - 0.5, X[:, 0].max() + 0.5\n",
    "y_min, y_max = X[:, 1].min() - 0.5, X[:, 1].max() + 0.5\n",
    "xx, yy = np.meshgrid(np.arange(x_min, x_max, h), np.arange(y_min, y_max, h))\n",
    "\n",
    "\n",
    "model.train()\n",
    "for i in range(30000):\n",
    "\n",
    "    y_pred = torch.sigmoid(model(X.float()))\n",
    "\n",
    "    loss = criterion(y_pred.flatten(), y.float())\n",
    "\n",
    "    loss.backward()\n",
    "\n",
    "    optim.step()\n",
    "    optim.zero_grad()\n",
    "    if (i + 1) % 500 == 0:\n",
    "        clear_output(True)\n",
    "        input_tensor = torch.from_numpy(np.c_[xx.ravel(), yy.ravel()]).float()\n",
    "        Z = torch.sigmoid(model(input_tensor))\n",
    "        Z = Z.reshape(xx.shape)\n",
    "\n",
    "        plt.scatter(X[:, 0], X[:, 1], marker=\"o\", c=y, s=25, edgecolor=\"k\")\n",
    "\n",
    "        plt.contourf(xx, yy, Z.detach().numpy(), cmap=cm, alpha=0.8)\n",
    "\n",
    "        plt.show()\n",
    "\n",
    "        print(\"Iteration: {}, Loss: {}\".format(i, loss))"
   ]
  },
  {
   "cell_type": "markdown",
   "metadata": {
    "id": "OWZ6cFnP9SLz"
   },
   "source": [
    "# Еще усложним модель (увеличим размерность скрытых слоев)"
   ]
  },
  {
   "cell_type": "code",
   "execution_count": null,
   "metadata": {
    "id": "weq1btVh9SL0"
   },
   "outputs": [],
   "source": [
    "model = nn.Sequential()\n",
    "model.add_module(\"first\", nn.Linear(2, 5))\n",
    "model.add_module(\"first_activation\", nn.Sigmoid())\n",
    "model.add_module(\"second\", nn.Linear(5, 5))\n",
    "model.add_module(\"second_activation\", nn.Sigmoid())\n",
    "model.add_module(\"third\", nn.Linear(5, 1))\n",
    "model.add_module(\"third_activation\", nn.Sigmoid())"
   ]
  },
  {
   "cell_type": "code",
   "execution_count": null,
   "metadata": {
    "colab": {
     "base_uri": "https://localhost:8080/"
    },
    "id": "R9E6zP6p9SL0",
    "outputId": "0e5cffdc-3b66-4ab7-9819-6a69654ac445"
   },
   "outputs": [],
   "source": [
    "criterion = torch.nn.BCELoss()\n",
    "\n",
    "optim = torch.optim.SGD(model.parameters(), lr=2, momentum=0.9)\n",
    "\n",
    "model.train()\n",
    "\n",
    "# model.to('cuda:2')"
   ]
  },
  {
   "cell_type": "code",
   "execution_count": null,
   "metadata": {
    "colab": {
     "base_uri": "https://localhost:8080/",
     "height": 282
    },
    "id": "XUWTN8rr9SL0",
    "outputId": "7e5358e6-247b-4697-98f0-100384573ebc"
   },
   "outputs": [],
   "source": [
    "from IPython.display import clear_output\n",
    "\n",
    "\n",
    "h = 0.02  # step size in the mesh\n",
    "cm = plt.cm.RdBu\n",
    "x_min, x_max = X[:, 0].min() - 0.5, X[:, 0].max() + 0.5\n",
    "y_min, y_max = X[:, 1].min() - 0.5, X[:, 1].max() + 0.5\n",
    "xx, yy = np.meshgrid(np.arange(x_min, x_max, h), np.arange(y_min, y_max, h))\n",
    "\n",
    "\n",
    "model.train()\n",
    "for i in range(3000):\n",
    "\n",
    "    y_pred = model(X.float())\n",
    "\n",
    "    loss = criterion(y_pred.flatten(), y.float())\n",
    "\n",
    "    loss.backward()\n",
    "\n",
    "    optim.step()\n",
    "    optim.zero_grad()\n",
    "    if (i + 1) % 50 == 0:\n",
    "        clear_output(True)\n",
    "        input_tensor = torch.from_numpy(np.c_[xx.ravel(), yy.ravel()]).float()\n",
    "        Z = torch.sigmoid(model(input_tensor))\n",
    "        Z = Z.reshape(xx.shape)\n",
    "\n",
    "        plt.scatter(X[:, 0], X[:, 1], marker=\"o\", c=y, s=25, edgecolor=\"k\")\n",
    "\n",
    "        plt.contourf(xx, yy, Z.detach().numpy(), cmap=cm, alpha=0.8)\n",
    "\n",
    "        plt.show()\n",
    "\n",
    "        print(\"Iteration: {}, Loss: {}\".format(i, loss))"
   ]
  },
  {
   "cell_type": "markdown",
   "metadata": {
    "id": "QvByiISS9SL0"
   },
   "source": [
    "# Сделаем > 2 классов"
   ]
  },
  {
   "cell_type": "code",
   "execution_count": null,
   "metadata": {
    "id": "HKn510MK9SL1"
   },
   "outputs": [],
   "source": [
    "from sklearn.datasets import make_circles"
   ]
  },
  {
   "cell_type": "code",
   "execution_count": null,
   "metadata": {
    "id": "swhmG6--9SL1"
   },
   "outputs": [],
   "source": [
    "# blobs with varied variances\n",
    "X, y = make_blobs(n_samples=400, cluster_std=[1.0, 1.5, 0.5], random_state=17)"
   ]
  },
  {
   "cell_type": "code",
   "execution_count": null,
   "metadata": {
    "colab": {
     "base_uri": "https://localhost:8080/",
     "height": 265
    },
    "id": "pbgyFYMl9SL1",
    "outputId": "26804b23-87cd-408a-def5-fd296742302d"
   },
   "outputs": [],
   "source": [
    "plt.scatter(X[:, 0], X[:, 1], marker=\"o\", c=y, s=25, edgecolor=\"k\")\n",
    "\n",
    "X = torch.tensor(X)\n",
    "y = torch.tensor(y)"
   ]
  },
  {
   "cell_type": "code",
   "execution_count": null,
   "metadata": {
    "id": "YE3gnkkN9SL1"
   },
   "outputs": [],
   "source": [
    "model = nn.Sequential()\n",
    "model.add_module(\"first\", nn.Linear(2, 5))\n",
    "model.add_module(\"first_activation\", nn.Sigmoid())\n",
    "model.add_module(\"second\", nn.Linear(5, 5))\n",
    "model.add_module(\"second_activation\", nn.Sigmoid())\n",
    "model.add_module(\"third\", nn.Linear(5, 3))"
   ]
  },
  {
   "cell_type": "code",
   "execution_count": null,
   "metadata": {
    "colab": {
     "base_uri": "https://localhost:8080/"
    },
    "id": "tqBQn5yW9SL2",
    "outputId": "fc339779-bee2-4cc5-aa91-ec285e824bc1"
   },
   "outputs": [],
   "source": [
    "criterion = torch.nn.CrossEntropyLoss()\n",
    "\n",
    "optim = torch.optim.SGD(model.parameters(), lr=0.1)\n",
    "\n",
    "model.train()"
   ]
  },
  {
   "cell_type": "code",
   "execution_count": null,
   "metadata": {
    "colab": {
     "base_uri": "https://localhost:8080/",
     "height": 282
    },
    "id": "KCBrFli99SL2",
    "outputId": "8f15148e-39a3-436b-f424-2e03d696b914"
   },
   "outputs": [],
   "source": [
    "from IPython.display import clear_output\n",
    "\n",
    "\n",
    "h = 0.02  # step size in the mesh\n",
    "cm = plt.cm.RdBu\n",
    "x_min, x_max = X[:, 0].min() - 0.5, X[:, 0].max() + 0.5\n",
    "y_min, y_max = X[:, 1].min() - 0.5, X[:, 1].max() + 0.5\n",
    "xx, yy = np.meshgrid(np.arange(x_min, x_max, h), np.arange(y_min, y_max, h))\n",
    "\n",
    "model.train()\n",
    "for i in range(1000):\n",
    "\n",
    "    y_pred = model(X.float())\n",
    "\n",
    "    loss = criterion(y_pred, y.long())\n",
    "\n",
    "    loss.backward()\n",
    "\n",
    "    optim.step()\n",
    "    optim.zero_grad()\n",
    "    if (i + 1) % 25 == 0:\n",
    "        clear_output(True)\n",
    "        input_tensor = torch.from_numpy(np.c_[xx.ravel(), yy.ravel()]).float()\n",
    "        Z = model(input_tensor)\n",
    "        Z = torch.argmax(Z, axis=1)\n",
    "        Z = Z.reshape(xx.shape)\n",
    "\n",
    "        plt.scatter(X[:, 0], X[:, 1], marker=\"o\", c=y, s=25, edgecolor=\"k\")\n",
    "\n",
    "        plt.contourf(xx, yy, Z.detach().numpy(), cmap=cm, alpha=0.8)\n",
    "\n",
    "        plt.show()\n",
    "\n",
    "        print(\"Iteration: {}, Loss: {}\".format(i, loss))"
   ]
  },
  {
   "cell_type": "markdown",
   "metadata": {},
   "source": [
    "# Реальные данные"
   ]
  },
  {
   "cell_type": "code",
   "execution_count": null,
   "metadata": {},
   "outputs": [],
   "source": [
    "from torch.utils.data import Dataset\n",
    "from torchvision import datasets\n",
    "from torchvision.transforms import ToTensor, Normalize, Lambda"
   ]
  },
  {
   "cell_type": "markdown",
   "metadata": {},
   "source": [
    "# 1. Грузим данные"
   ]
  },
  {
   "cell_type": "code",
   "execution_count": null,
   "metadata": {},
   "outputs": [],
   "source": [
    "data_folderpath = \"../../data\"\n",
    "training_data = datasets.FashionMNIST(\n",
    "    root=data_folderpath, train=True, download=True, transform=ToTensor()\n",
    ")\n",
    "\n",
    "test_data = datasets.FashionMNIST(\n",
    "    root=data_folderpath, train=False, download=True, transform=ToTensor()\n",
    ")"
   ]
  },
  {
   "cell_type": "code",
   "execution_count": null,
   "metadata": {},
   "outputs": [],
   "source": [
    "labels_map = {\n",
    "    0: \"T-Shirt\",\n",
    "    1: \"Trouser\",\n",
    "    2: \"Pullover\",\n",
    "    3: \"Dress\",\n",
    "    4: \"Coat\",\n",
    "    5: \"Sandal\",\n",
    "    6: \"Shirt\",\n",
    "    7: \"Sneaker\",\n",
    "    8: \"Bag\",\n",
    "    9: \"Ankle Boot\",\n",
    "}\n",
    "figure = plt.figure(figsize=(8, 8))\n",
    "cols, rows = 3, 3\n",
    "for i in range(1, cols * rows + 1):\n",
    "    sample_idx = torch.randint(len(training_data), size=(1,)).item()\n",
    "    img, label = training_data[sample_idx]\n",
    "    figure.add_subplot(rows, cols, i)\n",
    "    plt.title(labels_map[label])\n",
    "    plt.axis(\"off\")\n",
    "    plt.imshow(img.squeeze(), cmap=\"gray\")\n",
    "plt.show()"
   ]
  },
  {
   "cell_type": "code",
   "execution_count": null,
   "metadata": {},
   "outputs": [],
   "source": [
    "X_sample, y_sample = training_data[0]\n",
    "print(X_sample)\n",
    "print(y_sample)"
   ]
  },
  {
   "cell_type": "code",
   "execution_count": null,
   "metadata": {},
   "outputs": [],
   "source": [
    "X_sample.shape"
   ]
  },
  {
   "cell_type": "markdown",
   "metadata": {},
   "source": [
    "# Создаем собственный датасет"
   ]
  },
  {
   "cell_type": "code",
   "execution_count": null,
   "metadata": {},
   "outputs": [],
   "source": [
    "import pandas as pd\n",
    "import numpy as np\n",
    "\n",
    "\n",
    "class CustomImageDataset(Dataset):\n",
    "    def __init__(self, data_file, transform=None, target_transform=None):\n",
    "        self.data = pd.read_csv(data_file)\n",
    "        self.transform = transform\n",
    "        self.target_transform = target_transform\n",
    "\n",
    "    def __len__(self):\n",
    "        return self.data.shape[0]\n",
    "\n",
    "    def __getitem__(self, idx):\n",
    "        image = self.data.iloc[idx, 1:].values.reshape(28, 28).astype(np.uint8)\n",
    "        label = self.data.iloc[idx, 0]\n",
    "        if self.transform:\n",
    "            image = self.transform(image)\n",
    "        if self.target_transform:\n",
    "            label = self.target_transform(label)\n",
    "        return image, label"
   ]
  },
  {
   "cell_type": "code",
   "execution_count": null,
   "metadata": {},
   "outputs": [],
   "source": [
    "train_data_url = \"https://media.githubusercontent.com/media/fpleoni/fashion_mnist/master/fashion-mnist_train.csv\"\n",
    "test_data_url = \"https://media.githubusercontent.com/media/fpleoni/fashion_mnist/master/fashion-mnist_test.csv\""
   ]
  },
  {
   "cell_type": "code",
   "execution_count": null,
   "metadata": {},
   "outputs": [],
   "source": [
    "train = CustomImageDataset(\n",
    "    train_data_url,\n",
    "    transform=ToTensor(),\n",
    "    target_transform=Lambda(\n",
    "        lambda y: torch.zeros(10, dtype=torch.float).scatter_(\n",
    "            0, torch.tensor(y), value=1\n",
    "        )\n",
    "    ),\n",
    ")\n",
    "test = CustomImageDataset(\n",
    "    test_data_url,\n",
    "    transform=ToTensor(),\n",
    "    target_transform=Lambda(\n",
    "        lambda y: torch.zeros(10, dtype=torch.float).scatter_(\n",
    "            0, torch.tensor(y), value=1\n",
    "        )\n",
    "    ),\n",
    ")"
   ]
  },
  {
   "cell_type": "code",
   "execution_count": null,
   "metadata": {},
   "outputs": [],
   "source": [
    "X_sample, y_sample = train[0]"
   ]
  },
  {
   "cell_type": "code",
   "execution_count": null,
   "metadata": {},
   "outputs": [],
   "source": [
    "X_sample"
   ]
  },
  {
   "cell_type": "code",
   "execution_count": null,
   "metadata": {},
   "outputs": [],
   "source": [
    "X_sample.shape"
   ]
  },
  {
   "cell_type": "code",
   "execution_count": null,
   "metadata": {},
   "outputs": [],
   "source": [
    "y_sample"
   ]
  },
  {
   "cell_type": "code",
   "execution_count": null,
   "metadata": {},
   "outputs": [],
   "source": [
    "y_sample.shape"
   ]
  },
  {
   "cell_type": "markdown",
   "metadata": {},
   "source": [
    "# Познаем даталоадеры"
   ]
  },
  {
   "cell_type": "code",
   "execution_count": null,
   "metadata": {},
   "outputs": [],
   "source": [
    "from torch.utils.data import DataLoader\n",
    "\n",
    "train_dataloader = DataLoader(train, batch_size=64, shuffle=True)\n",
    "test_dataloader = DataLoader(test, batch_size=64, shuffle=True)"
   ]
  },
  {
   "cell_type": "code",
   "execution_count": null,
   "metadata": {},
   "outputs": [],
   "source": [
    "train_features, train_labels = next(iter(train_dataloader))\n",
    "print(f\"Feature batch shape: {train_features.size()}\")\n",
    "print(f\"Labels batch shape: {train_labels.size()}\")\n",
    "img = train_features[0].squeeze()\n",
    "label = train_labels[0]\n",
    "plt.imshow(img, cmap=\"gray\")\n",
    "plt.show()\n",
    "print(f\"Label: {label}\")"
   ]
  },
  {
   "cell_type": "markdown",
   "metadata": {},
   "source": [
    "# 2. Собираем нейросеть"
   ]
  },
  {
   "cell_type": "code",
   "execution_count": null,
   "metadata": {},
   "outputs": [],
   "source": [
    "device = \"cuda\" if torch.cuda.is_available() else \"cpu\"\n",
    "print(f\"Using {device} device\")"
   ]
  },
  {
   "cell_type": "code",
   "execution_count": null,
   "metadata": {},
   "outputs": [],
   "source": [
    "from torch import nn\n",
    "\n",
    "\n",
    "class NeuralNetwork(nn.Module):\n",
    "    def __init__(self):\n",
    "        super(NeuralNetwork, self).__init__()\n",
    "        self.flatten = nn.Flatten()\n",
    "        self.linear_relu_stack = nn.Sequential(\n",
    "            nn.Linear(28 * 28, 512),\n",
    "            nn.ReLU(),\n",
    "            nn.Linear(512, 512),\n",
    "            nn.ReLU(),\n",
    "            nn.Linear(512, 10),\n",
    "        )\n",
    "\n",
    "    def forward(self, x):\n",
    "        x = self.flatten(x)\n",
    "        logits = self.linear_relu_stack(x)\n",
    "        return logits"
   ]
  },
  {
   "cell_type": "code",
   "execution_count": null,
   "metadata": {},
   "outputs": [],
   "source": [
    "model = NeuralNetwork().to(device)\n",
    "print(model)"
   ]
  },
  {
   "cell_type": "code",
   "execution_count": null,
   "metadata": {},
   "outputs": [],
   "source": [
    "X = torch.rand(1, 28, 28, device=device)\n",
    "logits = model(X)\n",
    "pred_probab = nn.Softmax(dim=1)(logits)\n",
    "y_pred = pred_probab.argmax(1)\n",
    "print(f\"Predicted class: {y_pred}\")"
   ]
  },
  {
   "cell_type": "markdown",
   "metadata": {},
   "source": [
    "# Смотрим детально в слои сети"
   ]
  },
  {
   "cell_type": "code",
   "execution_count": null,
   "metadata": {},
   "outputs": [],
   "source": [
    "input_image = torch.rand(3, 28, 28)\n",
    "print(input_image.size())"
   ]
  },
  {
   "cell_type": "code",
   "execution_count": null,
   "metadata": {},
   "outputs": [],
   "source": [
    "input_image"
   ]
  },
  {
   "cell_type": "code",
   "execution_count": null,
   "metadata": {},
   "outputs": [],
   "source": [
    "flatten = nn.Flatten()\n",
    "flat_image = flatten(input_image)\n",
    "print(flat_image.size())"
   ]
  },
  {
   "cell_type": "code",
   "execution_count": null,
   "metadata": {},
   "outputs": [],
   "source": [
    "flat_image"
   ]
  },
  {
   "cell_type": "code",
   "execution_count": null,
   "metadata": {},
   "outputs": [],
   "source": [
    "layer1 = nn.Linear(in_features=28 * 28, out_features=20)\n",
    "hidden1 = layer1(flat_image)\n",
    "print(hidden1.size())"
   ]
  },
  {
   "cell_type": "code",
   "execution_count": null,
   "metadata": {},
   "outputs": [],
   "source": [
    "print(f\"Before ReLU: {hidden1}\\n\\n\")\n",
    "hidden1 = nn.ReLU()(hidden1)\n",
    "print(f\"After ReLU: {hidden1}\")"
   ]
  },
  {
   "cell_type": "code",
   "execution_count": null,
   "metadata": {},
   "outputs": [],
   "source": [
    "seq_modules = nn.Sequential(flatten, layer1, nn.ReLU(), nn.Linear(20, 10))\n",
    "input_image = torch.rand(3, 28, 28)\n",
    "logits = seq_modules(input_image)"
   ]
  },
  {
   "cell_type": "code",
   "execution_count": null,
   "metadata": {},
   "outputs": [],
   "source": [
    "logits.shape"
   ]
  },
  {
   "cell_type": "code",
   "execution_count": null,
   "metadata": {},
   "outputs": [],
   "source": [
    "logits"
   ]
  },
  {
   "cell_type": "code",
   "execution_count": null,
   "metadata": {},
   "outputs": [],
   "source": [
    "softmax = nn.Softmax(dim=1)\n",
    "pred_probab = softmax(logits)\n",
    "pred_probab"
   ]
  },
  {
   "cell_type": "code",
   "execution_count": null,
   "metadata": {},
   "outputs": [],
   "source": [
    "pred_probab.argmax(dim=1)"
   ]
  },
  {
   "cell_type": "code",
   "execution_count": null,
   "metadata": {},
   "outputs": [],
   "source": [
    "print(f\"Model structure: {model}\\n\\n\")\n",
    "\n",
    "for name, param in model.named_parameters():\n",
    "    print(f\"Layer: {name} | Size: {param.size()} | Values : {param[:2]} \\n\")"
   ]
  },
  {
   "cell_type": "markdown",
   "metadata": {},
   "source": [
    "# 3. Тренируем сеть"
   ]
  },
  {
   "cell_type": "markdown",
   "metadata": {},
   "source": [
    "#### Инициализируем модель"
   ]
  },
  {
   "cell_type": "code",
   "execution_count": null,
   "metadata": {},
   "outputs": [],
   "source": [
    "model = NeuralNetwork()"
   ]
  },
  {
   "cell_type": "markdown",
   "metadata": {},
   "source": [
    "#### Инициализируем параметры"
   ]
  },
  {
   "cell_type": "code",
   "execution_count": null,
   "metadata": {},
   "outputs": [],
   "source": [
    "learning_rate = 1e-3\n",
    "batch_size = 64\n",
    "epochs = 5"
   ]
  },
  {
   "cell_type": "markdown",
   "metadata": {},
   "source": [
    "#### Инициализируем функцию потерь"
   ]
  },
  {
   "cell_type": "code",
   "execution_count": null,
   "metadata": {},
   "outputs": [],
   "source": [
    "loss_fn = nn.CrossEntropyLoss()"
   ]
  },
  {
   "cell_type": "markdown",
   "metadata": {},
   "source": [
    "#### Инициализируем оптимизатор"
   ]
  },
  {
   "cell_type": "code",
   "execution_count": null,
   "metadata": {},
   "outputs": [],
   "source": [
    "optimizer = torch.optim.SGD(model.parameters(), lr=learning_rate)"
   ]
  },
  {
   "cell_type": "markdown",
   "metadata": {},
   "source": [
    "#### Описываем функции тренировки и тестирования модели"
   ]
  },
  {
   "cell_type": "code",
   "execution_count": null,
   "metadata": {},
   "outputs": [],
   "source": [
    "def train_loop(dataloader, model, loss_fn, optimizer):\n",
    "    size = len(dataloader.dataset)\n",
    "    for batch, (X, y) in enumerate(dataloader):\n",
    "        # Compute prediction and loss\n",
    "        pred = model(X)\n",
    "        loss = loss_fn(pred, y)\n",
    "\n",
    "        # Backpropagation\n",
    "        optimizer.zero_grad()\n",
    "        loss.backward()\n",
    "        optimizer.step()\n",
    "\n",
    "        if batch % 100 == 0:\n",
    "            loss, current = loss.item(), batch * len(X)\n",
    "            print(f\"loss: {loss:>7f}  [{current:>5d}/{size:>5d}]\")\n",
    "\n",
    "\n",
    "def test_loop(dataloader, model, loss_fn):\n",
    "    size = len(dataloader.dataset)\n",
    "    num_batches = len(dataloader)\n",
    "    test_loss, correct = 0, 0\n",
    "\n",
    "    with torch.no_grad():\n",
    "        for X, y in dataloader:\n",
    "            pred = model(X)\n",
    "            test_loss += loss_fn(pred, y).item()\n",
    "            correct += (pred.argmax(1) == y.argmax(1)).type(torch.float).sum().item()\n",
    "\n",
    "    test_loss /= num_batches\n",
    "    correct /= size\n",
    "    print(\n",
    "        f\"Test Error: \\n Accuracy: {(100*correct):>0.1f}%, Avg loss: {test_loss:>8f} \\n\"\n",
    "    )"
   ]
  },
  {
   "cell_type": "code",
   "execution_count": null,
   "metadata": {},
   "outputs": [],
   "source": [
    "epochs = 10\n",
    "for t in range(epochs):\n",
    "    print(f\"Epoch {t+1}\\n-------------------------------\")\n",
    "    train_loop(train_dataloader, model, loss_fn, optimizer)\n",
    "    test_loop(test_dataloader, model, loss_fn)\n",
    "print(\"Done!\")"
   ]
  },
  {
   "cell_type": "markdown",
   "metadata": {},
   "source": [
    "# Весь материал ниже считаем факультативным"
   ]
  },
  {
   "cell_type": "markdown",
   "metadata": {},
   "source": [
    "---"
   ]
  },
  {
   "cell_type": "markdown",
   "metadata": {},
   "source": [
    "# 4. Изучаем свертки"
   ]
  },
  {
   "cell_type": "markdown",
   "metadata": {},
   "source": [
    "![](https://distillery.com/wp-content/uploads/3-1.png)"
   ]
  },
  {
   "cell_type": "markdown",
   "metadata": {},
   "source": [
    "![](https://wikidocs.net/images/page/164365/Fig_04_cnn_filter.png)"
   ]
  },
  {
   "cell_type": "markdown",
   "metadata": {},
   "source": [
    "![](https://blog.kakaocdn.net/dn/lgBRU/btqWWtkNJhM/DsJwc0PXrbhS0n33Vqzgm1/img.gif)"
   ]
  },
  {
   "cell_type": "markdown",
   "metadata": {},
   "source": [
    "![](https://www.mobiquity.com/hs-fs/hubfs/CNN03.gif?width=640&name=CNN03.gif)"
   ]
  },
  {
   "cell_type": "markdown",
   "metadata": {},
   "source": [
    "![](https://i.stack.imgur.com/9bi5k.gif)"
   ]
  },
  {
   "cell_type": "code",
   "execution_count": null,
   "metadata": {},
   "outputs": [],
   "source": [
    "import matplotlib.pyplot as plt\n",
    "\n",
    "%matplotlib inline\n",
    "import numpy as np\n",
    "import cv2\n",
    "import sklearn\n",
    "import PIL\n",
    "import torch\n",
    "import torchvision\n",
    "\n",
    "\n",
    "def show_image(image, figsize=(16, 9), reverse=True):\n",
    "    plt.figure(figsize=figsize)\n",
    "    if reverse:\n",
    "        plt.imshow(image[..., ::-1])\n",
    "    else:\n",
    "        plt.imshow(image)\n",
    "    plt.axis(\"off\")\n",
    "    plt.show()\n",
    "\n",
    "\n",
    "def show_grayscale_image(image, figsize=(16, 9)):\n",
    "    plt.figure(figsize=figsize)\n",
    "    plt.imshow(image, cmap=\"gray\")\n",
    "    plt.axis(\"off\")\n",
    "    plt.show()"
   ]
  },
  {
   "cell_type": "code",
   "execution_count": null,
   "metadata": {},
   "outputs": [],
   "source": [
    "layer = torch.nn.Conv2d(1, 1, kernel_size=(3, 3))\n",
    "layer.weight"
   ]
  },
  {
   "cell_type": "code",
   "execution_count": null,
   "metadata": {},
   "outputs": [],
   "source": [
    "# вес доступен через .weight.data\n",
    "layer.weight.data = torch.ones_like(layer.weight.data)\n",
    "layer.weight.data /= torch.sum(layer.weight.data)\n",
    "layer.weight.data"
   ]
  },
  {
   "cell_type": "code",
   "execution_count": null,
   "metadata": {},
   "outputs": [],
   "source": [
    "layer.bias.data = torch.zeros_like(layer.bias.data)\n",
    "layer.bias.data"
   ]
  },
  {
   "cell_type": "code",
   "execution_count": null,
   "metadata": {},
   "outputs": [],
   "source": [
    "layer.train()\n",
    "layer.eval()"
   ]
  },
  {
   "cell_type": "code",
   "execution_count": null,
   "metadata": {},
   "outputs": [],
   "source": [
    "input_tensor = torch.arange(9).reshape(1, 1, 3, 3)\n",
    "input_tensor.shape"
   ]
  },
  {
   "cell_type": "markdown",
   "metadata": {},
   "source": [
    "1 - размер батча 1 - кол-во каналов (1, если черно-белый, 3, если цветной) 3 - высота 3 - ширина"
   ]
  },
  {
   "cell_type": "code",
   "execution_count": null,
   "metadata": {},
   "outputs": [],
   "source": [
    "input_tensor"
   ]
  },
  {
   "cell_type": "code",
   "execution_count": null,
   "metadata": {},
   "outputs": [],
   "source": [
    "output_tensor = layer(input_tensor.float())"
   ]
  },
  {
   "cell_type": "code",
   "execution_count": null,
   "metadata": {},
   "outputs": [],
   "source": [
    "output_tensor"
   ]
  },
  {
   "cell_type": "markdown",
   "metadata": {},
   "source": [
    "## Какие бывают фильтры"
   ]
  },
  {
   "cell_type": "code",
   "execution_count": null,
   "metadata": {},
   "outputs": [],
   "source": [
    "from urllib.request import urlopen\n",
    "\n",
    "\n",
    "req = urlopen(\n",
    "    \"https://images.unsplash.com/photo-1608848461950-0fe51dfc41cb?ixlib=rb-4.0.3&ixid=MnwxMjA3fDB8MHxleHBsb3JlLWZlZWR8M3x8fGVufDB8fHx8&w=1000&q=80\"\n",
    ")\n",
    "arr = np.asarray(bytearray(req.read()), dtype=np.uint8)\n",
    "img = cv2.imdecode(arr, 0)"
   ]
  },
  {
   "cell_type": "code",
   "execution_count": null,
   "metadata": {},
   "outputs": [],
   "source": [
    "img.shape"
   ]
  },
  {
   "cell_type": "code",
   "execution_count": null,
   "metadata": {},
   "outputs": [],
   "source": [
    "show_grayscale_image(img)"
   ]
  },
  {
   "cell_type": "code",
   "execution_count": null,
   "metadata": {},
   "outputs": [],
   "source": [
    "to_tensor = torchvision.transforms.ToTensor()\n",
    "img_tensor = to_tensor(img)\n",
    "img_tensor"
   ]
  },
  {
   "cell_type": "code",
   "execution_count": null,
   "metadata": {},
   "outputs": [],
   "source": [
    "img_tensor.shape"
   ]
  },
  {
   "cell_type": "code",
   "execution_count": null,
   "metadata": {},
   "outputs": [],
   "source": [
    "# делаем так, чтобы нейросеть могла считать изображение\n",
    "\n",
    "img_tensor = img_tensor.reshape((1, 1, 1500, 1000))"
   ]
  },
  {
   "cell_type": "code",
   "execution_count": null,
   "metadata": {},
   "outputs": [],
   "source": [
    "kernel_size = 50\n",
    "layer = torch.nn.Conv2d(1, 1, kernel_size=kernel_size)\n",
    "\n",
    "# обновляем веса свертки\n",
    "\n",
    "layer.weight.data = torch.ones_like(layer.weight.data)\n",
    "layer.weight.data /= torch.sum(layer.weight.data)"
   ]
  },
  {
   "cell_type": "code",
   "execution_count": null,
   "metadata": {},
   "outputs": [],
   "source": [
    "layer.weight.data"
   ]
  },
  {
   "cell_type": "code",
   "execution_count": null,
   "metadata": {},
   "outputs": [],
   "source": [
    "output_tensor = layer(img_tensor)\n",
    "output_tensor.shape"
   ]
  },
  {
   "cell_type": "code",
   "execution_count": null,
   "metadata": {},
   "outputs": [],
   "source": [
    "import torchvision.transforms as transforms\n",
    "\n",
    "# функция, переводящее тензор в PIL-изображение\n",
    "to_pil_image = transforms.ToPILImage()\n",
    "output_img = to_pil_image(output_tensor.squeeze(0))"
   ]
  },
  {
   "cell_type": "code",
   "execution_count": null,
   "metadata": {},
   "outputs": [],
   "source": [
    "show_grayscale_image(output_img)"
   ]
  },
  {
   "cell_type": "code",
   "execution_count": null,
   "metadata": {},
   "outputs": [],
   "source": [
    "def show_image_with_kernel(img_input, kernel):\n",
    "    layer = torch.nn.Conv2d(1, 1, kernel_size=3)\n",
    "    layer.weight.data = our_kernel.reshape(1, 1, 3, 3)\n",
    "    output_tensor = layer(img_input)\n",
    "    output_img = to_pil_image(output_tensor.squeeze(0))\n",
    "    show_grayscale_image(output_img)"
   ]
  },
  {
   "cell_type": "code",
   "execution_count": null,
   "metadata": {},
   "outputs": [],
   "source": [
    "our_kernel = torch.tensor([[0, -1, 0], [-1, 4, -1], [0, -1, 0]], dtype=torch.float32)\n",
    "our_kernel = our_kernel.reshape(1, 1, 3, 3)\n",
    "show_image_with_kernel(img_tensor, our_kernel)"
   ]
  },
  {
   "cell_type": "code",
   "execution_count": null,
   "metadata": {},
   "outputs": [],
   "source": [
    "our_kernel = torch.tensor(\n",
    "    [[-1, -1, -1], [-1, 8, -1], [-1, -1, -1]], dtype=torch.float32\n",
    ")\n",
    "our_kernel = our_kernel.reshape(1, 1, 3, 3)\n",
    "show_image_with_kernel(img_tensor, our_kernel)"
   ]
  },
  {
   "cell_type": "code",
   "execution_count": null,
   "metadata": {},
   "outputs": [],
   "source": [
    "our_kernel = torch.tensor([[0, -1, 0], [-1, 5, -1], [0, -1, 0]], dtype=torch.float32)\n",
    "our_kernel = our_kernel.reshape(1, 1, 3, 3)\n",
    "show_image_with_kernel(img_tensor, our_kernel)"
   ]
  },
  {
   "cell_type": "code",
   "execution_count": null,
   "metadata": {},
   "outputs": [],
   "source": [
    "our_kernel = torch.tensor([[1, 0, 0], [0, 1, 0], [0, 0, 1]], dtype=torch.float32)\n",
    "our_kernel = our_kernel.reshape(1, 1, 3, 3)\n",
    "show_image_with_kernel(img_tensor, our_kernel)"
   ]
  },
  {
   "cell_type": "code",
   "execution_count": null,
   "metadata": {},
   "outputs": [],
   "source": [
    "our_kernel = torch.tensor([[1, 0, 1], [0, 1, 0], [1, 0, 1]], dtype=torch.float32)\n",
    "our_kernel = our_kernel.reshape(1, 1, 3, 3)\n",
    "show_image_with_kernel(img_tensor, our_kernel)"
   ]
  },
  {
   "cell_type": "markdown",
   "metadata": {},
   "source": [
    "![](https://miro.medium.com/v2/resize:fit:738/0*4tHPDjvQXX9obrhK.gif)"
   ]
  },
  {
   "cell_type": "markdown",
   "metadata": {},
   "source": [
    "![](https://qph.cf2.quoracdn.net/main-qimg-c05ec72225e19614f0cc10385d27525c)"
   ]
  },
  {
   "cell_type": "markdown",
   "metadata": {},
   "source": [
    "![](https://blog.ca.meron.dev/images/Convolution.gif)"
   ]
  },
  {
   "cell_type": "markdown",
   "metadata": {},
   "source": [
    "![](https://i.stack.imgur.com/ptDPZ.gif)"
   ]
  },
  {
   "cell_type": "markdown",
   "metadata": {},
   "source": [
    "![](https://lukeguerdan.com/assets/img/TCNfigureA.png)"
   ]
  },
  {
   "cell_type": "markdown",
   "metadata": {},
   "source": [
    "![](https://theaisummer.com/static/490be17ee7f19b78003c3fdf5a6bbafc/83b75/receptive-field-in-convolutional-networks.png)"
   ]
  },
  {
   "cell_type": "markdown",
   "metadata": {},
   "source": [
    "![](https://i.ytimg.com/vi/KuXjwB4LzSA/maxresdefault.jpg)"
   ]
  },
  {
   "cell_type": "markdown",
   "metadata": {},
   "source": [
    "![](https://saturncloud.io/images/blog/a-comprehensive-guide-to-convolutional-neural-networks-the-eli5-way.jpg)"
   ]
  },
  {
   "cell_type": "markdown",
   "metadata": {},
   "source": [
    "![](https://learnopencv.com/wp-content/uploads/2023/01/tensorflow-keras-cnn-vgg-architecture-1024x611.png)"
   ]
  },
  {
   "cell_type": "markdown",
   "metadata": {},
   "source": [
    "![](https://nico-curti.github.io/NumPyNet/NumPyNet/images/maxpool.gif)"
   ]
  },
  {
   "cell_type": "markdown",
   "metadata": {},
   "source": [
    "Визуализация сверточных слоев https://distill.pub/2017/feature-visualization/"
   ]
  },
  {
   "cell_type": "markdown",
   "metadata": {},
   "source": [
    "# Теперь пора писать свою сверточную нейросеть"
   ]
  },
  {
   "cell_type": "code",
   "execution_count": null,
   "metadata": {},
   "outputs": [],
   "source": [
    "import torch\n",
    "import torchvision\n",
    "import torchvision.transforms as transforms\n",
    "\n",
    "\n",
    "transform = transforms.Compose(\n",
    "    [transforms.ToTensor(), transforms.Normalize((0.5, 0.5, 0.5), (0.5, 0.5, 0.5))]\n",
    ")"
   ]
  },
  {
   "cell_type": "code",
   "execution_count": null,
   "metadata": {},
   "outputs": [],
   "source": [
    "batch_size = 4\n",
    "\n",
    "# dataset задаёт данные\n",
    "trainset = torchvision.datasets.CIFAR10(\n",
    "    root=\"./data\", train=True, download=True, transform=transform\n",
    ")\n",
    "# dataloader подгружает их\n",
    "trainloader = torch.utils.data.DataLoader(\n",
    "    trainset, batch_size=batch_size, shuffle=True, num_workers=2\n",
    ")\n",
    "\n",
    "testset = torchvision.datasets.CIFAR10(\n",
    "    root=\"./data\", train=False, download=True, transform=transform\n",
    ")\n",
    "testloader = torch.utils.data.DataLoader(\n",
    "    testset, batch_size=batch_size, shuffle=False, num_workers=2\n",
    ")\n",
    "\n",
    "classes = (\n",
    "    \"plane\",\n",
    "    \"car\",\n",
    "    \"bird\",\n",
    "    \"cat\",\n",
    "    \"deer\",\n",
    "    \"dog\",\n",
    "    \"frog\",\n",
    "    \"horse\",\n",
    "    \"ship\",\n",
    "    \"truck\",\n",
    ")"
   ]
  },
  {
   "cell_type": "code",
   "execution_count": null,
   "metadata": {},
   "outputs": [],
   "source": [
    "import matplotlib.pyplot as plt\n",
    "import numpy as np\n",
    "\n",
    "\n",
    "def imshow(img):\n",
    "    # убрать нормализацию\n",
    "    img = img / 2 + 0.5\n",
    "    npimg = img.numpy()\n",
    "    plt.imshow(np.transpose(npimg, (1, 2, 0)))\n",
    "    plt.show()\n",
    "\n",
    "\n",
    "# взять случайный батч изображений\n",
    "dataiter = iter(trainloader)\n",
    "images, labels = next(dataiter)\n",
    "\n",
    "imshow(torchvision.utils.make_grid(images))\n",
    "print(\"  \".join(\"{}\".format(classes[labels[j]]) for j in range(4)))"
   ]
  },
  {
   "cell_type": "code",
   "execution_count": null,
   "metadata": {},
   "outputs": [],
   "source": [
    "def train_model(net, criterion, optimizer, trainloader, num_epochs=5):\n",
    "    for epoch in range(num_epochs):\n",
    "        running_loss = 0.0\n",
    "        for i, data in enumerate(trainloader, 0):\n",
    "            inputs, labels = data\n",
    "\n",
    "            # Давайте сами напишем код тут\n",
    "\n",
    "            optimizer.zero_grad()\n",
    "\n",
    "            outputs = net(inputs)\n",
    "            loss = criterion(outputs, labels)\n",
    "            loss.backward()\n",
    "            optimizer.step()\n",
    "\n",
    "            running_loss += loss.item()\n",
    "            if i % 2000 == 1999:\n",
    "                print(\n",
    "                    \"Epoch {0}/{1}, iteration {2}, loss: {3:.3f}\".format(\n",
    "                        epoch + 1, num_epochs, i + 1, running_loss / 2000\n",
    "                    )\n",
    "                )\n",
    "                running_loss = 0.0\n",
    "        print()\n",
    "\n",
    "    print(\"Finished Training\")\n",
    "\n",
    "    return net"
   ]
  },
  {
   "cell_type": "code",
   "execution_count": null,
   "metadata": {},
   "outputs": [],
   "source": [
    "def all_accuracy(net, testloader):\n",
    "    correct = 0\n",
    "    total = 0\n",
    "    with torch.no_grad():\n",
    "        for data in testloader:\n",
    "            images, labels = data\n",
    "            outputs = net(images)\n",
    "\n",
    "            _, predicted = torch.max(outputs.data, 1)\n",
    "            total += labels.size(0)\n",
    "            correct += (predicted == labels).sum().item()\n",
    "\n",
    "    print(\n",
    "        \"Accuracy of the network on the 10000 test images: {} %\".format(\n",
    "            100 * correct / total\n",
    "        )\n",
    "    )"
   ]
  },
  {
   "cell_type": "code",
   "execution_count": null,
   "metadata": {},
   "outputs": [],
   "source": [
    "def class_accuracy(net, testloader):\n",
    "    class_correct = list(0.0 for i in range(10))\n",
    "    class_total = list(0.0 for i in range(10))\n",
    "    with torch.no_grad():\n",
    "        for data in testloader:\n",
    "            images, labels = data\n",
    "            outputs = net(images)\n",
    "            _, predicted = torch.max(outputs, 1)\n",
    "            c = (predicted == labels).squeeze()\n",
    "            for i in range(4):\n",
    "                label = labels[i]\n",
    "                class_correct[label] += c[i].item()\n",
    "                class_total[label] += 1\n",
    "\n",
    "    for i in range(10):\n",
    "        print(\n",
    "            \"Accuracy of {} : {} %\".format(\n",
    "                classes[i], 100 * class_correct[i] / class_total[i]\n",
    "            )\n",
    "        )"
   ]
  },
  {
   "cell_type": "code",
   "execution_count": null,
   "metadata": {},
   "outputs": [],
   "source": [
    "import torch.nn as nn\n",
    "import torch.nn.functional as F\n",
    "\n",
    "\n",
    "class FeedForwardNet(nn.Module):\n",
    "    def __init__(self):\n",
    "        super(FeedForwardNet, self).__init__()\n",
    "        self.fc1 = nn.Linear(3 * 32 * 32, 128)\n",
    "        self.fc2 = nn.Linear(128, 32)\n",
    "        self.fc3 = nn.Linear(32, 10)\n",
    "\n",
    "    def forward(self, x):\n",
    "        x = x.view(-1, 3 * 32 * 32)\n",
    "        x = self.fc1(x)\n",
    "        x = F.relu(x)\n",
    "        x = self.fc2(x)\n",
    "        x = F.relu(x)\n",
    "        x = self.fc3(x)\n",
    "        return x\n",
    "\n",
    "\n",
    "net = FeedForwardNet()"
   ]
  },
  {
   "cell_type": "code",
   "execution_count": null,
   "metadata": {},
   "outputs": [],
   "source": [
    "import torch.optim as optim\n",
    "\n",
    "criterion = nn.CrossEntropyLoss()\n",
    "optimizer = optim.SGD(net.parameters(), lr=0.001, momentum=0.9)"
   ]
  },
  {
   "cell_type": "code",
   "execution_count": null,
   "metadata": {},
   "outputs": [],
   "source": [
    "net = train_model(net, criterion, optimizer, trainloader, num_epochs=5)"
   ]
  },
  {
   "cell_type": "code",
   "execution_count": null,
   "metadata": {},
   "outputs": [],
   "source": [
    "all_accuracy(net, testloader)"
   ]
  },
  {
   "cell_type": "code",
   "execution_count": null,
   "metadata": {},
   "outputs": [],
   "source": [
    "class_accuracy(net, testloader)"
   ]
  },
  {
   "cell_type": "markdown",
   "metadata": {},
   "source": [
    "## Свёрточная сеть для классификации"
   ]
  },
  {
   "cell_type": "code",
   "execution_count": null,
   "metadata": {},
   "outputs": [],
   "source": [
    "import torch.nn as nn\n",
    "import torch.nn.functional as F\n",
    "\n",
    "\n",
    "class Net(nn.Module):\n",
    "    def __init__(self):\n",
    "        super(Net, self).__init__()\n",
    "        self.conv1 = nn.Conv2d(3, 6, 5)\n",
    "        self.pool = nn.MaxPool2d(2, 2)\n",
    "        self.conv2 = nn.Conv2d(6, 16, 5)\n",
    "        self.fc1 = nn.Linear(16 * 5 * 5, 120)\n",
    "        self.fc2 = nn.Linear(120, 84)\n",
    "        self.fc3 = nn.Linear(84, 10)\n",
    "\n",
    "    def forward(self, x):\n",
    "        x = self.pool(F.relu(self.conv1(x)))\n",
    "        x = self.pool(F.relu(self.conv2(x)))\n",
    "        x = x.view(-1, 16 * 5 * 5)\n",
    "        x = F.relu(self.fc1(x))\n",
    "        x = F.relu(self.fc2(x))\n",
    "        x = self.fc3(x)\n",
    "        return x\n",
    "\n",
    "\n",
    "net = Net()"
   ]
  },
  {
   "cell_type": "code",
   "execution_count": null,
   "metadata": {},
   "outputs": [],
   "source": [
    "criterion = nn.CrossEntropyLoss()\n",
    "optimizer = optim.SGD(net.parameters(), lr=0.001, momentum=0.9)"
   ]
  },
  {
   "cell_type": "code",
   "execution_count": null,
   "metadata": {},
   "outputs": [],
   "source": [
    "net = train_model(net, criterion, optimizer, trainloader, num_epochs=5)"
   ]
  },
  {
   "cell_type": "code",
   "execution_count": null,
   "metadata": {},
   "outputs": [],
   "source": [
    "# сохраним сеть\n",
    "PATH = \"./cifar_net.pth\"\n",
    "torch.save(net.state_dict(), PATH)"
   ]
  },
  {
   "cell_type": "code",
   "execution_count": null,
   "metadata": {},
   "outputs": [],
   "source": [
    "dataiter = iter(testloader)\n",
    "images, labels = next(dataiter)\n",
    "\n",
    "imshow(torchvision.utils.make_grid(images))\n",
    "print(\n",
    "    \"GroundTruth: \",\n",
    "    \" \".join(\"{}\".format(classes[labels[j]]) for j in range(batch_size)),\n",
    ")"
   ]
  },
  {
   "cell_type": "code",
   "execution_count": null,
   "metadata": {},
   "outputs": [],
   "source": [
    "# загрузим сеть\n",
    "net_loaded = Net()\n",
    "net_loaded.load_state_dict(torch.load(PATH))"
   ]
  },
  {
   "cell_type": "code",
   "execution_count": null,
   "metadata": {},
   "outputs": [],
   "source": [
    "outputs = net_loaded(images)\n",
    "_, predicted = torch.max(outputs, 1)\n",
    "\n",
    "print(\"Predicted: \", \" \".join(\"{}\".format(classes[predicted[j]]) for j in range(4)))"
   ]
  },
  {
   "cell_type": "code",
   "execution_count": null,
   "metadata": {},
   "outputs": [],
   "source": [
    "all_accuracy(net, testloader)"
   ]
  },
  {
   "cell_type": "code",
   "execution_count": null,
   "metadata": {},
   "outputs": [],
   "source": [
    "class_accuracy(net, testloader)"
   ]
  },
  {
   "cell_type": "code",
   "execution_count": null,
   "metadata": {},
   "outputs": [],
   "source": []
  }
 ],
 "metadata": {
  "colab": {
   "collapsed_sections": [],
   "provenance": []
  },
  "kernelspec": {
   "display_name": "nn-ml-bachelor-2024-venv",
   "language": "python",
   "name": "nn-ml-bachelor-2024-venv"
  },
  "language_info": {
   "codemirror_mode": {
    "name": "ipython",
    "version": 3
   },
   "file_extension": ".py",
   "mimetype": "text/x-python",
   "name": "python",
   "nbconvert_exporter": "python",
   "pygments_lexer": "ipython3",
   "version": "3.9.6"
  }
 },
 "nbformat": 4,
 "nbformat_minor": 1
}
